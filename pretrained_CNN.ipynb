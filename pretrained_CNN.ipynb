{
  "nbformat": 4,
  "nbformat_minor": 0,
  "metadata": {
    "colab": {
      "name": "pretrained_CNN.ipynb",
      "provenance": [],
      "collapsed_sections": []
    },
    "kernelspec": {
      "name": "python3",
      "display_name": "Python 3"
    },
    "accelerator": "GPU"
  },
  "cells": [
    {
      "cell_type": "code",
      "metadata": {
        "id": "dUbpgxkvv5O1"
      },
      "source": [
        "# Function to pre-process images\n",
        " \n",
        "transform = transforms.Compose([            \n",
        " transforms.Resize(256),                    \n",
        " transforms.CenterCrop(224),                \n",
        " transforms.ToTensor(),                     \n",
        " transforms.Normalize(                      \n",
        " mean=[0.485, 0.456, 0.406],                \n",
        " std=[0.229, 0.224, 0.225])\n",
        "])\n",
        " \n",
        "transform2 = transforms.Compose([            \n",
        " transforms.Resize(106),                    \n",
        " transforms.CenterCrop(84),                \n",
        " transforms.ToTensor(),                     \n",
        " transforms.Normalize(                      \n",
        " mean=[0.485, 0.456, 0.406],                \n",
        " std=[0.229, 0.224, 0.225])\n",
        "])"
      ],
      "execution_count": null,
      "outputs": []
    },
    {
      "cell_type": "code",
      "metadata": {
        "id": "yZSJvhrmwIe3",
        "colab": {
          "base_uri": "https://localhost:8080/",
          "height": 153
        },
        "outputId": "06898dd8-e4a1-4927-c1fd-043b231ea6c6"
      },
      "source": [
        "# To extract features and labels \n",
        "\n",
        "dataset_root = \"A3_dataset\"\n",
        "features = []\n",
        "labels = []\n",
        "classes = os.listdir(dataset_root)\n",
        "count = 0\n",
        "for cls in classes:\n",
        "  print(count)\n",
        "  files = os.listdir(dataset_root + \"/\" + cls)\n",
        "  for f in files:\n",
        "    img = Image.open(dataset_root + \"/\" + cls + \"/\"  + f)\n",
        "    img_t = transform2(img)\n",
        "    batch_t = torch.unsqueeze(img_t, 0)\n",
        "    features.append(batch_t.numpy())\n",
        "    labels.append(count)\n",
        "  count += 1\n",
        "features = np.array(features)\n",
        "labels = np.array(labels)\n",
        "print(features.shape,labels.shape)\n",
        "np.save(\"features2.npy\",features)\n",
        "np.save(\"labels2.npy\",labels)"
      ],
      "execution_count": null,
      "outputs": [
        {
          "output_type": "stream",
          "text": [
            "0\n",
            "1\n",
            "2\n",
            "3\n",
            "4\n",
            "5\n",
            "6\n",
            "(418, 1, 3, 84, 84) (418,)\n"
          ],
          "name": "stdout"
        }
      ]
    },
    {
      "cell_type": "code",
      "metadata": {
        "id": "niFgesfk7CIf"
      },
      "source": [
        "#=========================================================================================================================================================="
      ],
      "execution_count": null,
      "outputs": []
    },
    {
      "cell_type": "code",
      "metadata": {
        "id": "odRjlWGO7Vl6",
        "colab": {
          "base_uri": "https://localhost:8080/",
          "height": 51
        },
        "outputId": "802b2142-e5ef-4a32-e1b2-d0ebecdb65c6"
      },
      "source": [
        "from torchvision import models\n",
        "import torch\n",
        "from torchvision import transforms\n",
        "import os\n",
        "from PIL import Image\n",
        "import numpy as np\n",
        "import torch.nn as nn\n",
        "import torch.nn.functional as F\n",
        "import matplotlib.pyplot as plt\n",
        " \n",
        "np.random.seed(1)\n",
        " \n",
        "%cd drive/My\\ Drive/DL/A3"
      ],
      "execution_count": null,
      "outputs": [
        {
          "output_type": "stream",
          "text": [
            "[Errno 2] No such file or directory: 'drive/My Drive/DL/A3'\n",
            "/content/drive/My Drive/DL/A3\n"
          ],
          "name": "stdout"
        }
      ]
    },
    {
      "cell_type": "code",
      "metadata": {
        "id": "iHdY35Tm6MYT"
      },
      "source": [
        "googlenet = models.googlenet(pretrained=True)\n",
        "googlenet.fc = nn.Sequential(nn.Linear(1024,100),nn.ReLU(),nn.Linear(100,7))\n",
        "print(googlenet)"
      ],
      "execution_count": null,
      "outputs": []
    },
    {
      "cell_type": "code",
      "metadata": {
        "id": "ByzuBMCtFg2o"
      },
      "source": [
        "vgg16 = models.vgg16(pretrained=True)\n",
        "# print(vgg16)"
      ],
      "execution_count": null,
      "outputs": []
    },
    {
      "cell_type": "code",
      "metadata": {
        "id": "ye9KC_HMxpl9"
      },
      "source": [
        "new_classifier = nn.Sequential(*list(vgg16.classifier.children())[:-2])\n",
        "vgg16.classifier = new_classifier\n",
        "print(vgg16)"
      ],
      "execution_count": null,
      "outputs": []
    },
    {
      "cell_type": "code",
      "metadata": {
        "id": "89fE5B1k2eGC"
      },
      "source": [
        "# Deep-CNN features\n",
        "features = np.load(\"features.npy\")\n",
        "extracted_features = []\n",
        "if type(features) is np.ndarray:\n",
        "  features = torch.from_numpy(features)\n",
        "count = 0\n",
        "for f in features:\n",
        "  print(count)\n",
        "  outp = vgg16(f)\n",
        "  extracted_features.append(outp.view(outp.size(0),-1).detach().numpy().tolist())\n",
        "  count += 1\n",
        "extracted_features = np.array(extracted_features)\n",
        "print(extracted_features.shape)\n",
        "np.save(\"extracted_features_avgpool.npy\",extracted_features)"
      ],
      "execution_count": null,
      "outputs": []
    },
    {
      "cell_type": "code",
      "metadata": {
        "id": "5ioHELWAJe__"
      },
      "source": [
        "# Deep-CNN features googlenet\n",
        "features = np.load(\"features.npy\")\n",
        "extracted_features = []\n",
        "if type(features) is np.ndarray:\n",
        "  features = torch.from_numpy(features)\n",
        "count = 0\n",
        "for f in features:\n",
        "  print(count)\n",
        "  outp = torch.squeeze(googlenet(f),0)\n",
        "  # outp = torch.squeeze(outp,2)\n",
        "  # outp = torch.squeeze(outp,2)\n",
        "  # extracted_features.append(outp.view(outp.size(0),-1).detach().numpy().tolist())\n",
        "  extracted_features.append(outp.detach().numpy().tolist())\n",
        "  count += 1\n",
        "extracted_features = np.array(extracted_features)\n",
        "print(extracted_features.shape)\n",
        "np.save(\"extracted_features_googlenet.npy\",extracted_features)"
      ],
      "execution_count": null,
      "outputs": []
    },
    {
      "cell_type": "code",
      "metadata": {
        "id": "cmywGYZZ6VpE",
        "colab": {
          "base_uri": "https://localhost:8080/",
          "height": 34
        },
        "outputId": "60e99376-049b-4097-ab48-f3fb5dd23d39"
      },
      "source": [
        "# Dataset preparation for Task 1 : using pretrained models \n",
        "extracted_features = np.squeeze(np.load(\"extracted_features_fc2_with_relu.npy\"),(1))\n",
        "deep_f = extracted_features\n",
        "labels = np.load(\"labels.npy\")\n",
        "train_set = []\n",
        "test_set = []\n",
        "validation_set = []\n",
        "new = 0\n",
        "count = 0\n",
        "for l in labels:\n",
        "  if l == 1 and new==0:\n",
        "    new = 57 \n",
        "    count = 0\n",
        "  if (count % 10) < 7:\n",
        "    train_set.append(np.concatenate((deep_f[new + count,:].reshape(deep_f.shape[1],1),np.array([[l]]).reshape((1,1))),axis=0))\n",
        "  if (count % 10) == 7:\n",
        "    validation_set.append(np.concatenate((deep_f[new + count,:].reshape(deep_f.shape[1],1),np.array([[l]]).reshape((1,1))),axis=0))\n",
        "  if (count % 10) == 8 or (count % 10) == 9:\n",
        "    test_set.append(np.concatenate((deep_f[new + count,:].reshape(deep_f.shape[1],1),np.array([[l]]).reshape((1,1))),axis=0))\n",
        "  count += 1\n",
        "train_set = np.squeeze(np.array(train_set),axis=2)\n",
        "test_set = np.squeeze(np.array(test_set),axis=2)\n",
        "validation_set = np.squeeze(np.array(validation_set),axis=2)\n",
        "np.random.shuffle(train_set)\n",
        "np.random.shuffle(validation_set)\n",
        "np.random.shuffle(test_set) \n",
        "print(train_set.shape,validation_set.shape,test_set.shape)"
      ],
      "execution_count": null,
      "outputs": [
        {
          "output_type": "stream",
          "text": [
            "(294, 4097) (42, 4097) (82, 4097)\n"
          ],
          "name": "stdout"
        }
      ]
    },
    {
      "cell_type": "code",
      "metadata": {
        "id": "tWqx-FES-Au3",
        "colab": {
          "base_uri": "https://localhost:8080/",
          "height": 34
        },
        "outputId": "05b615c7-d7c6-4917-9687-cfa32743a008"
      },
      "source": [
        "# Dataset preparation for Task 2 : CNN from scratch\n",
        "features = np.load(\"features.npy\")\n",
        "labels = np.load(\"labels.npy\")\n",
        "deep_f = features\n",
        " \n",
        "train_set_f = []\n",
        "test_set_f = []\n",
        "validation_set_f = []\n",
        "train_set_l = []\n",
        "test_set_l = []\n",
        "validation_set_l = []\n",
        " \n",
        "count = 0\n",
        "for l in labels:\n",
        "  if (count % 10) < 7:\n",
        "    train_set_f.append(features[count,:,:,:])\n",
        "    train_set_l.append(l)\n",
        "  if (count % 10) == 7:\n",
        "    validation_set_f.append(features[count,:,:,:])\n",
        "    validation_set_l.append(l)\n",
        "  if (count % 10) == 8 or (count % 10) == 9:\n",
        "    test_set_f.append(features[count,:,:,:])\n",
        "    test_set_l.append(l)\n",
        "  count += 1\n",
        " \n",
        "train_set_f = np.squeeze(np.array(train_set_f),axis=1)\n",
        "validation_set_f = np.squeeze(np.array(validation_set_f),axis=1)\n",
        "test_set_f = np.squeeze(np.array(test_set_f),axis=1)\n",
        "train_set_l = np.array(train_set_l)\n",
        "validation_set_l = np.array(validation_set_l)\n",
        "test_set_l = np.array(test_set_l)\n",
        " \n",
        "rng_state = np.random.get_state()\n",
        "np.random.shuffle(train_set_f)\n",
        "np.random.set_state(rng_state)\n",
        "np.random.shuffle(train_set_l)\n",
        " \n",
        "rng_state = np.random.get_state()\n",
        "np.random.shuffle(validation_set_f)\n",
        "np.random.set_state(rng_state)\n",
        "np.random.shuffle(validation_set_l)\n",
        " \n",
        "rng_state = np.random.get_state()\n",
        "np.random.shuffle(test_set_f)\n",
        "np.random.set_state(rng_state)\n",
        "np.random.shuffle(test_set_l)\n",
        " \n",
        "print(train_set_f.shape,validation_set_f.shape,test_set_f.shape)"
      ],
      "execution_count": null,
      "outputs": [
        {
          "output_type": "stream",
          "text": [
            "(294, 3, 224, 224) (42, 3, 224, 224) (82, 3, 224, 224)\n"
          ],
          "name": "stdout"
        }
      ]
    },
    {
      "cell_type": "code",
      "metadata": {
        "id": "MpgoazW6muRg",
        "colab": {
          "base_uri": "https://localhost:8080/",
          "height": 71
        },
        "outputId": "dfe361ea-3817-4406-cd76-ee5150f76d6e"
      },
      "source": [
        "# To plot confusion matrix \n",
        "\n",
        "import seaborn as sn\n",
        "import pandas as pd\n",
        "import matplotlib.pyplot as plt\n",
        " \n",
        "def calculate_confusion_matrix(pred, actual,f_name):\n",
        "  num_classes = 7\n",
        "  class_names = [\"Class 1,Class 2,Class 3,Class 4,Class 5,Class 6,Class 7,Total\"]\n",
        "  matrix = np.zeros((8,8))\n",
        "  for i in range(len(actual)):\n",
        "    matrix[actual[i],7] += 1\n",
        "    matrix[actual[i],torch.argmax(pred[i])] += 1\n",
        "    matrix[7,torch.argmax(pred[i])] += 1\n",
        "    matrix[7,7] += 1\n",
        "  df_cm = pd.DataFrame(matrix.astype(np.int))\n",
        "  # plt.figure(figsize = (10,7))\n",
        "  sn.heatmap(df_cm, annot=True,fmt='g')\n",
        "  plt.xlabel(\"Predicted Class\")\n",
        "  plt.ylabel(\"Actual Class\")\n",
        "  # plt.savefig(f_name+ \".png\")\n",
        "  plt.show()"
      ],
      "execution_count": null,
      "outputs": [
        {
          "output_type": "stream",
          "text": [
            "/usr/local/lib/python3.6/dist-packages/statsmodels/tools/_testing.py:19: FutureWarning: pandas.util.testing is deprecated. Use the functions in the public API at pandas.testing instead.\n",
            "  import pandas.util.testing as tm\n"
          ],
          "name": "stderr"
        }
      ]
    },
    {
      "cell_type": "code",
      "metadata": {
        "id": "I5X8Uaw68O9M"
      },
      "source": [
        "# Classifier using Deep CNN features\n",
        " \n",
        "num_f = deep_f.shape[1]\n",
        " \n",
        "if type(train_set) is np.ndarray:\n",
        "  train_set_f = torch.from_numpy(train_set[:,0:num_f]).float()\n",
        "  train_set_l = torch.from_numpy(train_set[:,num_f]).long()\n",
        "  validation_set_f = torch.from_numpy(validation_set[:,0:num_f]).float()\n",
        "  validation_set_l = torch.from_numpy(validation_set[:,num_f]).long()\n",
        "  test_set_f = torch.from_numpy(test_set[:,0:num_f]).float()\n",
        "  test_set_l = torch.from_numpy(test_set[:,num_f]).long()\n",
        " \n",
        "input_size = deep_f.shape[1]\n",
        "output_size = 7\n",
        "\n",
        "no_epochs = 60\n",
        "start_epoch = 0\n",
        "train_from_saved_model = False\n",
        "ckp_path = \"deep_features_classifier/model_vgg16_with_relu_60.pth\".format(start_epoch)\n",
        " \n",
        "class Network(nn.Module):\n",
        "    def __init__(self):\n",
        "        super().__init__()\n",
        "        \n",
        "        self.first = nn.Linear(input_size, 400)\n",
        "        self.second = nn.Linear(400, output_size)\n",
        "        self.relu = nn.ReLU() \n",
        " \n",
        "    def forward(self, x):\n",
        "        x = self.first(x)\n",
        "        x = self.relu(x)\n",
        "        x = self.second(x)\n",
        "        return x\n",
        " \n",
        "model = Network()\n",
        "criterion = nn.CrossEntropyLoss()\n",
        "optimizer = torch.optim.Adam(model.parameters(), lr=0.0001, betas=(0.9, 0.999))\n",
        " \n",
        "def load_ckp(checkpoint_fpath, model, optimizer):\n",
        "    checkpoint = torch.load(checkpoint_fpath)\n",
        "    model.load_state_dict(checkpoint['state_dict'])\n",
        "    optimizer.load_state_dict(checkpoint['optimizer'])\n",
        "    return model, optimizer, checkpoint['epoch']\n",
        " \n",
        "print(torch.load(ckp_path))\n",
        "\n",
        "if train_from_saved_model == True:\n",
        "  model, optimizer, start_epoch = load_ckp(ckp_path, model, optimizer)\n",
        "\n",
        "\n",
        "# Testing\n",
        "def testing(data_f,data_l):\n",
        "  output = model(data_f)\n",
        "  correct_1 = 0\n",
        "  for i in range(len(data_f)):\n",
        "    if torch.argmax(output[i]) == data_l[i]:\n",
        "      correct_1 += 1\n",
        "    print(correct_1/len(data_l))\n",
        "  \n",
        "# Training\n",
        "batch = 1\n",
        "for e in range(no_epochs + 1):\n",
        "    \n",
        "    optimizer.zero_grad()\n",
        "    outputs = model(train_set_f)\n",
        "    loss = criterion(outputs,train_set_l)\n",
        "    loss.backward()\n",
        "    optimizer.step()\n",
        "     \n",
        "    print(\"Number of epochs : {} | Training Loss : {}\".format(start_epoch + e,loss.item()/len(train_set_l)))\n",
        "    # calculate_confusion_matrix(model(test_set_f),test_set_l,ckp_path)\n",
        "    # testing(train_set_f,train_set_l)\n",
        "    # testing(validation_set_f,validation_set_l)\n",
        "    # testing(test_set_f,test_set_l)\n",
        "    # print(\"\")\n",
        "      \n",
        "#Saving model \n",
        "checkpoint = {\n",
        "    'epoch': start_epoch + e,\n",
        "    'state_dict': model.state_dict(),\n",
        "    'optimizer': optimizer.state_dict()\n",
        "  }\n",
        " \n",
        "torch.save(checkpoint, \"deep_features_classifier/model_vgg16_with_relu_{}.pth\".format(start_epoch + e))\n",
        "calculate_confusion_matrix(model(test_set_f),test_set_l,ckp_path)"
      ],
      "execution_count": null,
      "outputs": []
    },
    {
      "cell_type": "code",
      "metadata": {
        "id": "H7NPpjlFpxy2",
        "colab": {
          "base_uri": "https://localhost:8080/",
          "height": 279
        },
        "outputId": "8e31dda4-72db-422d-a8a9-45991c904e67"
      },
      "source": [
        "calculate_confusion_matrix(model(validation_set_f),validation_set_l,ckp_path)"
      ],
      "execution_count": null,
      "outputs": [
        {
          "output_type": "display_data",
          "data": {
            "image/png": "[encoded data removed]",
            "text/plain": [
              "<Figure size 432x288 with 2 Axes>"
            ]
          },
          "metadata": {
            "tags": [],
            "needs_background": "light"
          }
        }
      ]
    },
    {
      "cell_type": "code",
      "metadata": {
        "id": "uS268fwpw_ed",
        "colab": {
          "base_uri": "https://localhost:8080/",
          "height": 347
        },
        "outputId": "a77c20bc-7138-45fb-f8b7-e4eedfe801c5"
      },
      "source": [
        "# Freezing googlenet \n",
        " \n",
        "dev = torch.device(\"cuda:0\")\n",
        "\n",
        "if type(train_set_f) is np.ndarray:\n",
        "  train_set_f = torch.from_numpy(train_set_f).float()\n",
        "  train_set_l = torch.from_numpy(train_set_l).long()\n",
        "  validation_set_f = torch.from_numpy(validation_set_f).float()\n",
        "  validation_set_l = torch.from_numpy(validation_set_l).long()\n",
        "  test_set_f = torch.from_numpy(test_set_f).float()\n",
        "  test_set_l = torch.from_numpy(test_set_l).long()\n",
        " \n",
        "train_labels = train_set_l.numpy()\n",
        "validation_labels = validation_set_l.numpy()\n",
        "test_labels = test_set_l.numpy()\n",
        "\n",
        "no_epochs = 0\n",
        "start_epoch = 150\n",
        "train_from_saved_model = True \n",
        "ckp_path = \"deep_features_classifier/model_googlenet_{}.pth\".format(start_epoch)\n",
        "\n",
        "model = googlenet\n",
        "model = model.to(dev)\n",
        "criterion = nn.CrossEntropyLoss().to(dev)\n",
        "optimizer = torch.optim.Adam(model.parameters(), lr=0.00001, betas=(0.9, 0.999))\n",
        " \n",
        "def load_ckp(checkpoint_fpath, model, optimizer):\n",
        "    checkpoint = torch.load(checkpoint_fpath)\n",
        "    model.load_state_dict(checkpoint['state_dict'])\n",
        "    optimizer.load_state_dict(checkpoint['optimizer'])\n",
        "    return model, optimizer, checkpoint['epoch']\n",
        " \n",
        "if train_from_saved_model == True:\n",
        "  model, optimizer, start_epoch = load_ckp(ckp_path, model, optimizer)\n",
        "else:\n",
        "  # To freeze layers \n",
        "  C = 0\n",
        "  for child in model.children():\n",
        "    C += 1\n",
        "    if C == 19:\n",
        "      break\n",
        "    if True:\n",
        "      for param in child.parameters():\n",
        "          param.requires_grad = False\n",
        "\n",
        "\n",
        "# Testing\n",
        "def testing(data_f,data_l):\n",
        "  output = model(data_f)\n",
        "  correct_1 = 0\n",
        "  for i in range(len(data_f)):\n",
        "    if torch.argmax(output[i]) == data_l[i]:\n",
        "      correct_1 += 1\n",
        "  return correct_1/len(data_l)\n",
        "\n",
        "# Training\n",
        "batch = 20\n",
        "b = 0\n",
        "for e in range(no_epochs + 1):\n",
        "    b = 0\n",
        "    training_acc = 0\n",
        "    c = 0\n",
        "    while b <= 260:\n",
        "      optimizer.zero_grad()\n",
        "      outputs = model(train_set_f[b:b+20,:,:,:].to(dev))\n",
        "      loss = criterion(outputs,torch.tensor(train_labels[b:b +20]).to(dev))\n",
        "      loss.backward()\n",
        "      optimizer.step()\n",
        "      b += batch\n",
        "      c += 1\n",
        "      training_acc += testing(train_set_f[b:b+20,:,:,:].to(dev),train_labels[b:b +20])\n",
        "    print(\"Number of epochs : {} | Training Loss : {}\".format(start_epoch + e,loss.item()))\n",
        "    print(training_acc/c)\n",
        "    print(testing(validation_set_f.to(dev),validation_labels))\n",
        "    print(testing(test_set_f.to(dev),test_labels))\n",
        "\n",
        "# Saving model \n",
        "checkpoint = {\n",
        "    'epoch': start_epoch + e,\n",
        "    'state_dict': model.state_dict(),\n",
        "    'optimizer': optimizer.state_dict()\n",
        "  }\n",
        " \n",
        "torch.save(checkpoint, \"deep_features_classifier/model_googlenet_{}.pth\".format(start_epoch + e))\n",
        "calculate_confusion_matrix(model(test_set_f.to(dev)),test_set_l,\"deep_features_classifier/model_googlenet_{}.png\".format(start_epoch + e))"
      ],
      "execution_count": null,
      "outputs": [
        {
          "output_type": "stream",
          "text": [
            "Number of epochs : 150 | Training Loss : 0.7328064441680908\n",
            "0.9397959183673469\n",
            "0.8809523809523809\n",
            "0.9146341463414634\n"
          ],
          "name": "stdout"
        },
        {
          "output_type": "display_data",
          "data": {
            "image/png": "[encoded data removed]",
            "text/plain": [
              "<Figure size 432x288 with 2 Axes>"
            ]
          },
          "metadata": {
            "tags": [],
            "needs_background": "light"
          }
        }
      ]
    },
    {
      "cell_type": "code",
      "metadata": {
        "id": "HBXUY7W0ANOM",
        "colab": {
          "base_uri": "https://localhost:8080/",
          "height": 551
        },
        "outputId": "f53cfe3d-1fd6-47fb-dc83-1e0c464bba7a"
      },
      "source": [
        "# CNN Classifier from scratch\n",
        " \n",
        "if type(train_set_f) is np.ndarray:\n",
        "  train_set_f = torch.from_numpy(train_set_f).float()\n",
        "  train_set_l = torch.from_numpy(train_set_l).long()\n",
        "  validation_set_f = torch.from_numpy(validation_set_f).float()\n",
        "  validation_set_l = torch.from_numpy(validation_set_l).long()\n",
        "  test_set_f = torch.from_numpy(test_set_f).float()\n",
        "  test_set_l = torch.from_numpy(test_set_l).long()\n",
        " \n",
        "train_labels = train_set_l.numpy()\n",
        "validation_labels = validation_set_l.numpy()\n",
        "test_labels = test_set_l.numpy()\n",
        " \n",
        "dev = torch.device(\"cuda:0\")\n",
        "no_epochs = -1\n",
        "start_epoch = 100 \n",
        "train_from_saved_model = True \n",
        "ckp_path = \"scratch_classifier/model_1layer_{}.pth\".format(start_epoch)\n",
        " \n",
        "class Network(nn.Module):\n",
        "    def __init__(self):\n",
        "        super().__init__()\n",
        "        self.cnn_layers = nn.Sequential(\n",
        "            nn.Conv2d(3, 4, kernel_size=3, stride=1,padding=1),\n",
        "            nn.ReLU(),\n",
        "            nn.AvgPool2d(kernel_size=2, stride=2),\n",
        "            nn.Conv2d(4, 16, kernel_size=3, stride=1),\n",
        "            nn.ReLU(),\n",
        "            nn.AvgPool2d(kernel_size=2, stride=2),\n",
        "        )\n",
        " \n",
        "        self.linear_layers = nn.Sequential(\n",
        "            nn.Linear(16 * 55 * 55, 4000),\n",
        "            nn.ReLU(),\n",
        "            nn.Dropout(p=0.6),\n",
        "            nn.Linear(4000,7)\n",
        "        )\n",
        " \n",
        "    def forward(self, x):\n",
        "        x = self.cnn_layers(x)\n",
        "        x = x.view(x.size(0),-1)\n",
        "        x = self.linear_layers(x)\n",
        "        return x\n",
        " \n",
        "model = Network().to(dev)\n",
        "criterion = nn.CrossEntropyLoss().to(dev)\n",
        "optimizer = torch.optim.Adam(model.parameters(), lr=0.0001, betas=(0.9, 0.999))\n",
        " \n",
        "def load_ckp(checkpoint_fpath, model, optimizer):\n",
        "    checkpoint = torch.load(checkpoint_fpath)\n",
        "    model.load_state_dict(checkpoint['state_dict'])\n",
        "    optimizer.load_state_dict(checkpoint['optimizer'])\n",
        "    return model, optimizer, checkpoint['epoch']\n",
        " \n",
        "if train_from_saved_model == True:\n",
        "  model, optimizer, start_epoch = load_ckp(ckp_path, model, optimizer)\n",
        "\n",
        "\n",
        "print(model)\n",
        "\n",
        "# Testing\n",
        "def testing(data_f,data_l):\n",
        "  output = model(data_f)\n",
        "  correct_1 = 0\n",
        "  for i in range(len(data_f)):\n",
        "    if torch.argmax(output[i]) == data_l[i]:\n",
        "      correct_1 += 1\n",
        "  return correct_1/len(data_l)\n",
        " \n",
        "# Training\n",
        "for e in range(no_epochs + 1):\n",
        "    optimizer.zero_grad()\n",
        "    outputs = model(train_set_f.to(dev))\n",
        "    loss = criterion(outputs,torch.tensor(train_labels).to(dev))\n",
        "    loss.backward()\n",
        "    optimizer.step()\n",
        "    if loss.item() <= 0.66:\n",
        "      break\n",
        "    print(\"Number of epochs : {} | Training Loss : {}\".format(start_epoch + e,loss.item()))\n",
        "    print(testing(train_set_f.to(dev),train_labels))\n",
        "    print(testing(validation_set_f.to(dev),validation_labels))\n",
        "    print(testing(test_set_f.to(dev),test_labels))  \n",
        " \n",
        "# Saving model \n",
        "checkpoint = {\n",
        "    'epoch': start_epoch + e,\n",
        "    'state_dict': model.state_dict(),\n",
        "    'optimizer': optimizer.state_dict()\n",
        "  }\n",
        " \n",
        "# torch.save(checkpoint, \"scratch_classifier/model_{}.pth\".format(start_epoch + e))\n",
        "calculate_confusion_matrix(model(test_set_f.to(dev)),test_set_l,\"scratch_classifier/model_{}.png\".format(start_epoch + e))"
      ],
      "execution_count": null,
      "outputs": [
        {
          "output_type": "stream",
          "text": [
            "Network(\n",
            "  (cnn_layers): Sequential(\n",
            "    (0): Conv2d(3, 4, kernel_size=(3, 3), stride=(1, 1), padding=(1, 1))\n",
            "    (1): ReLU()\n",
            "    (2): AvgPool2d(kernel_size=2, stride=2, padding=0)\n",
            "    (3): Conv2d(4, 16, kernel_size=(3, 3), stride=(1, 1))\n",
            "    (4): ReLU()\n",
            "    (5): AvgPool2d(kernel_size=2, stride=2, padding=0)\n",
            "  )\n",
            "  (linear_layers): Sequential(\n",
            "    (0): Linear(in_features=48400, out_features=4000, bias=True)\n",
            "    (1): ReLU()\n",
            "    (2): Dropout(p=0.6, inplace=False)\n",
            "    (3): Linear(in_features=4000, out_features=7, bias=True)\n",
            "  )\n",
            ")\n"
          ],
          "name": "stdout"
        },
        {
          "output_type": "display_data",
          "data": {
            "image/png": "[encoded data removed]",
            "text/plain": [
              "<Figure size 432x288 with 2 Axes>"
            ]
          },
          "metadata": {
            "tags": [],
            "needs_background": "light"
          }
        }
      ]
    },
    {
      "cell_type": "code",
      "metadata": {
        "id": "dHeJdNN2THLs",
        "colab": {
          "base_uri": "https://localhost:8080/",
          "height": 534
        },
        "outputId": "81ad3c81-fdb9-4b6b-cd1d-e6ef22060e3e"
      },
      "source": [
        "# NetVLAD CNN Classifier \n",
        "\n",
        "if type(train_set_f) is np.ndarray:\n",
        "  train_set_f = torch.from_numpy(train_set_f).float()\n",
        "  train_set_l = torch.from_numpy(train_set_l).long()\n",
        "  validation_set_f = torch.from_numpy(validation_set_f).float()\n",
        "  validation_set_l = torch.from_numpy(validation_set_l).long()\n",
        "  test_set_f = torch.from_numpy(test_set_f).float()\n",
        "  test_set_l = torch.from_numpy(test_set_l).long()\n",
        " \n",
        "train_labels = train_set_l.numpy()\n",
        "validation_labels = validation_set_l.numpy()\n",
        "test_labels = test_set_l.numpy()\n",
        "\n",
        "no_epochs = -1\n",
        "start_epoch = 205\n",
        "train_from_saved_model = True \n",
        "ckp_path = \"scratch_classifier/model_netVLAD_{}.pth\".format(start_epoch)\n",
        "\n",
        "class Network(nn.Module):\n",
        "    def __init__(self):\n",
        "        super().__init__()\n",
        "        self.num_clusters = 4\n",
        "        self.ck = nn.Parameter(torch.rand(self.num_clusters, 16))\n",
        "        self.cnn_layers = nn.Sequential(\n",
        "            nn.Conv2d(3, 4, kernel_size=3, stride=1, padding=1),\n",
        "            nn.ReLU(),\n",
        "            nn.AvgPool2d(kernel_size=2, stride=2),\n",
        "            nn.Conv2d(4, 16, kernel_size=3, stride=1, padding=0),\n",
        "            nn.ReLU(),\n",
        "            nn.AvgPool2d(kernel_size=2, stride=2),\n",
        "        )\n",
        "        self.oned_conv_layer = nn.Conv2d(16,4,kernel_size=1,stride=1,padding=0)       \n",
        "        self.softmax = nn.Softmax(dim=1)\n",
        "        self.linear_layers = nn.Sequential(\n",
        "            nn.Linear(64, 7)\n",
        "        )\n",
        "        \n",
        "    def forward(self, x):\n",
        "        x = self.cnn_layers(x)\n",
        "        \n",
        "        N, C = x.shape[:2]\n",
        "        soft_assign = self.oned_conv_layer(x).view(N, self.num_clusters, -1)\n",
        "        soft_assign = F.softmax(soft_assign, dim=1)\n",
        "        x_flatten = x.view(N, C, -1)\n",
        "        vlad = torch.zeros([N, self.num_clusters, C], dtype=x.dtype, layout=x.layout, device=x.device)\n",
        "        for C in range(self.num_clusters): \n",
        "            residual = x_flatten.unsqueeze(0).permute(1, 0, 2, 3) - \\\n",
        "                    self.ck[C:C+1, :].expand(x_flatten.size(-1), -1, -1).permute(1, 2, 0).unsqueeze(0)\n",
        "            residual *= soft_assign[:,C:C+1,:].unsqueeze(2)\n",
        "            vlad[:,C:C+1,:] = residual.sum(dim=-1)\n",
        "        vlad = F.normalize(vlad, p=2, dim=2)  \n",
        "        vlad = vlad.view(x.size(0), -1)  \n",
        "        vlad = F.normalize(vlad, p=2, dim=1)\n",
        "        \n",
        "        x = self.linear_layers(vlad)\n",
        "        return x\n",
        "\n",
        "model = Network()\n",
        "criterion = nn.CrossEntropyLoss()\n",
        "optimizer = torch.optim.Adam(model.parameters(), lr=0.1, betas=(0.9, 0.999))\n",
        "\n",
        "def load_ckp(checkpoint_fpath, model, optimizer):\n",
        "    checkpoint = torch.load(checkpoint_fpath)\n",
        "    model.load_state_dict(checkpoint['state_dict'])\n",
        "    optimizer.load_state_dict(checkpoint['optimizer'])\n",
        "    return model, optimizer, checkpoint['epoch']\n",
        "\n",
        "if train_from_saved_model == True:\n",
        "  model, optimizer, start_epoch = load_ckp(ckp_path, model, optimizer)\n",
        "\n",
        "print(model)\n",
        "\n",
        "# Testing\n",
        "def testing(data_f,data_l):\n",
        "  output = model(data_f)\n",
        "  correct_1 = 0\n",
        "  for i in range(len(data_f)):\n",
        "    if torch.argmax(output[i]) == data_l[i]:\n",
        "      correct_1 += 1\n",
        "  print(correct_1/len(data_l))\n",
        "  \n",
        "\n",
        "# Training\n",
        "for e in range(no_epochs + 1):\n",
        "    optimizer.zero_grad()\n",
        "    outputs = model(train_set_f)\n",
        "    loss = criterion(outputs,torch.tensor(train_labels))\n",
        "    loss.backward()\n",
        "    optimizer.step()\n",
        "    print(\"Number of epochs : {} | Training Loss : {}\".format(start_epoch + e,loss.item()))\n",
        "    \n",
        "    testing(train_set_f,train_labels)\n",
        "    testing(validation_set_f,validation_labels)\n",
        "    testing(test_set_f,test_labels)\n",
        "\n",
        "# Saving model \n",
        "checkpoint = {\n",
        "    'epoch': start_epoch + e,\n",
        "    'state_dict': model.state_dict(),\n",
        "    'optimizer': optimizer.state_dict()\n",
        "  }\n",
        "\n",
        "# torch.save(checkpoint, \"scratch_classifier/model_netVLAD_{}.pth\".format(205))\n",
        "calculate_confusion_matrix(model(test_set_f),test_set_l,ckp_path)\n",
        " \n"
      ],
      "execution_count": null,
      "outputs": [
        {
          "output_type": "stream",
          "text": [
            "Network(\n",
            "  (cnn_layers): Sequential(\n",
            "    (0): Conv2d(3, 4, kernel_size=(3, 3), stride=(1, 1), padding=(1, 1))\n",
            "    (1): ReLU()\n",
            "    (2): AvgPool2d(kernel_size=2, stride=2, padding=0)\n",
            "    (3): Conv2d(4, 16, kernel_size=(3, 3), stride=(1, 1))\n",
            "    (4): ReLU()\n",
            "    (5): AvgPool2d(kernel_size=2, stride=2, padding=0)\n",
            "  )\n",
            "  (oned_conv_layer): Conv2d(16, 4, kernel_size=(1, 1), stride=(1, 1))\n",
            "  (softmax): Softmax(dim=1)\n",
            "  (linear_layers): Sequential(\n",
            "    (0): Linear(in_features=64, out_features=7, bias=True)\n",
            "  )\n",
            ")\n"
          ],
          "name": "stdout"
        },
        {
          "output_type": "display_data",
          "data": {
            "image/png": "[encoded data removed]",
            "text/plain": [
              "<Figure size 432x288 with 2 Axes>"
            ]
          },
          "metadata": {
            "tags": [],
            "needs_background": "light"
          }
        }
      ]
    },
    {
      "cell_type": "code",
      "metadata": {
        "id": "zEapdG9_o17K"
      },
      "source": [
        ""
      ],
      "execution_count": null,
      "outputs": []
    }
  ]
}